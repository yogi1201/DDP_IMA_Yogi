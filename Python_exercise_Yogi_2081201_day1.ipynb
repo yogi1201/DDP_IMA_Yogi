{
 "cells": [
  {
   "cell_type": "code",
   "execution_count": 1,
   "id": "5a368337",
   "metadata": {
    "scrolled": true
   },
   "outputs": [
    {
     "name": "stdout",
     "output_type": "stream",
     "text": [
      "('Uppercase : 2 ' , 'Lowercase : 8 ' )\n"
     ]
    }
   ],
   "source": [
    "def case_count(word):\n",
    "    count={\"Uppercase\":0, \"Lowercase\":0}\n",
    "    for c in word:\n",
    "        if c.isupper(): #https://www.geeksforgeeks.org/isupper-islower-lower-upper-python-applications/\n",
    "           count[\"Uppercase\"]+=1\n",
    "        elif c.islower():\n",
    "           count[\"Lowercase\"]+=1\n",
    "        else:\n",
    "           pass\n",
    "\n",
    "    print (\"('Uppercase :\", count[\"Uppercase\"],\"'\",\",\",\"'Lowercase :\", count[\"Lowercase\"],\"'\",\")\")\n",
    "\n",
    "case_count(\"Hello World\")"
   ]
  },
  {
   "cell_type": "code",
   "execution_count": 2,
   "id": "6190c879",
   "metadata": {},
   "outputs": [],
   "source": [
    "score = {\"a\": 1, \"e\": 1, \"i\": 1, \"o\": 1, \"u\": 1, \"l\": 1, \"n\": 1, \"r\": 1, \"s\": 1, \"t\": 1,\n",
    "         \"d\": 2, \"g\": 2, \"b\": 3, \"c\": 3, \"m\": 3, \"p\": 3, \"f\": 4, \"h\": 4,\"v\": 4, \"w\": 4, \"y\": 4,\n",
    "         \"k\": 5, \"j\": 8, \"x\": 8,\"q\": 10, \"z\": 10}\n",
    "         #https://scrabble.hasbro.com/en-us/faq\n",
    "\n",
    "def get_scrabble_score(word):\n",
    "    total = 0\n",
    "    for i in word:\n",
    "        total = total + score[i.lower()]\n",
    "    return total"
   ]
  },
  {
   "cell_type": "code",
   "execution_count": 3,
   "id": "15000e05",
   "metadata": {},
   "outputs": [
    {
     "data": {
      "text/plain": [
       "13"
      ]
     },
     "execution_count": 3,
     "metadata": {},
     "output_type": "execute_result"
    }
   ],
   "source": [
    "get_scrabble_score(\"wibble\")"
   ]
  },
  {
   "cell_type": "code",
   "execution_count": null,
   "id": "fa49c817",
   "metadata": {},
   "outputs": [],
   "source": []
  }
 ],
 "metadata": {
  "kernelspec": {
   "display_name": "Python 3",
   "language": "python",
   "name": "python3"
  },
  "language_info": {
   "codemirror_mode": {
    "name": "ipython",
    "version": 3
   },
   "file_extension": ".py",
   "mimetype": "text/x-python",
   "name": "python",
   "nbconvert_exporter": "python",
   "pygments_lexer": "ipython3",
   "version": "3.8.8"
  }
 },
 "nbformat": 4,
 "nbformat_minor": 5
}
